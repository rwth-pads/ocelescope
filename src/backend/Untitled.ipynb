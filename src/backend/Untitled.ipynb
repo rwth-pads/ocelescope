{
 "cells": [
  {
   "cell_type": "code",
   "execution_count": 3,
   "id": "23f93ab1-7405-4f75-87d9-3dabdb4a4b27",
   "metadata": {},
   "outputs": [
    {
     "name": "stdout",
     "output_type": "stream",
     "text": [
      "Index(['event_id', 'event_activity', 'event_timestamp', 'customers',\n",
      "       'employees', 'items', 'orders', 'packages', 'products'],\n",
      "      dtype='object')\n",
      "['customers', 'employees', 'items', 'orders', 'packages', 'products']\n"
     ]
    }
   ],
   "source": [
    "from datetime import datetime\n",
    "from ocpa.objects.log.importer.ocel2.sqlite import factory as ocel_import_factory\n",
    "import time\n",
    "import numpy as np\n",
    "import scipy.stats\n",
    "\n",
    "ocel = ocel_import_factory.apply(\"example-data/order-management.sqlite\")"
   ]
  },
  {
   "cell_type": "code",
   "execution_count": 6,
   "id": "9d74c1e6-4e37-4760-8a18-0e147f7de351",
   "metadata": {},
   "outputs": [],
   "source": [
    "from ocpa.algo.util.process_executions import factory as process_executions_factory\n",
    "\n",
    "\n",
    "cases, a , c = process_executions_factory.apply(ocel, variant=\"leading_type\", parameters={\"leading_type\":\"orders\"})"
   ]
  },
  {
   "cell_type": "code",
   "execution_count": 11,
   "id": "7dcaebdb-9017-4c71-ab90-bd101cbcf8ee",
   "metadata": {},
   "outputs": [
    {
     "name": "stdout",
     "output_type": "stream",
     "text": [
      "16.9 s ± 1.91 s per loop (mean ± std. dev. of 7 runs, 1 loop each)\n"
     ]
    }
   ],
   "source": [
    "%timeit process_executions_factory.apply(ocel, variant=\"leading_type\", parameters={\"leading_type\":\"orders\"})"
   ]
  },
  {
   "cell_type": "code",
   "execution_count": null,
   "id": "1233146e-ee68-48f9-b961-62801521d2c7",
   "metadata": {},
   "outputs": [],
   "source": [
    "def leading_type(ocel:pm4)"
   ]
  }
 ],
 "metadata": {
  "kernelspec": {
   "display_name": "Python 3 (ipykernel)",
   "language": "python",
   "name": "python3"
  },
  "language_info": {
   "codemirror_mode": {
    "name": "ipython",
    "version": 3
   },
   "file_extension": ".py",
   "mimetype": "text/x-python",
   "name": "python",
   "nbconvert_exporter": "python",
   "pygments_lexer": "ipython3",
   "version": "3.9.13"
  }
 },
 "nbformat": 4,
 "nbformat_minor": 5
}
