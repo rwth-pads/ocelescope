{
 "cells": [
  {
   "cell_type": "code",
   "execution_count": 8,
   "id": "14120d5b-87f1-49b3-83ce-88152d370dcd",
   "metadata": {
    "scrolled": true
   },
   "outputs": [
    {
     "name": "stderr",
     "output_type": "stream",
     "text": [
      "/home/grkmr/Projects/ocelescope/src/backend/.venv/lib/python3.10/site-packages/pm4py/objects/ocel/importer/sqlite/variants/ocel20.py:75: UserWarning: There are unsatisfied OCEL 2.0 constraints in the given relational database: ['const_14_primary_key_object_event_map_type_tables', 'const_15_primary_key_object_event_tables', 'const_16_primary_key_event_object_table', 'const_17_primary_key_object_object_table', 'const_18_primary_key_event_type_spec_tables', 'const_19_foreign_key_event', 'const_20_foreign_key_object', 'const_21_foreign_key_event_object', 'const_22_foreign_key_object_object', 'const_23_foreign_key_event_type_specific', 'const_24_foreign_key_object_type_specific']\n",
      "  warnings.warn(\"There are unsatisfied OCEL 2.0 constraints in the given relational database: \"+str(unsatisfied))\n",
      "/home/grkmr/Projects/ocelescope/src/backend/.venv/lib/python3.10/site-packages/pm4py/objects/ocel/util/ocel_consistency.py:92: SettingWithCopyWarning: \n",
      "A value is trying to be set on a copy of a slice from a DataFrame.\n",
      "Try using .loc[row_indexer,col_indexer] = value instead\n",
      "\n",
      "See the caveats in the documentation: https://pandas.pydata.org/pandas-docs/stable/user_guide/indexing.html#returning-a-view-versus-a-copy\n",
      "  df[col] = df[col].astype(str)\n",
      "/home/grkmr/Projects/ocelescope/src/backend/.venv/lib/python3.10/site-packages/pm4py/objects/ocel/util/ocel_consistency.py:92: SettingWithCopyWarning: \n",
      "A value is trying to be set on a copy of a slice from a DataFrame.\n",
      "Try using .loc[row_indexer,col_indexer] = value instead\n",
      "\n",
      "See the caveats in the documentation: https://pandas.pydata.org/pandas-docs/stable/user_guide/indexing.html#returning-a-view-versus-a-copy\n",
      "  df[col] = df[col].astype(str)\n",
      "/home/grkmr/Projects/ocelescope/src/backend/.venv/lib/python3.10/site-packages/pm4py/objects/ocel/util/ocel_consistency.py:92: SettingWithCopyWarning: \n",
      "A value is trying to be set on a copy of a slice from a DataFrame.\n",
      "Try using .loc[row_indexer,col_indexer] = value instead\n",
      "\n",
      "See the caveats in the documentation: https://pandas.pydata.org/pandas-docs/stable/user_guide/indexing.html#returning-a-view-versus-a-copy\n",
      "  df[col] = df[col].astype(str)\n",
      "/home/grkmr/Projects/ocelescope/src/backend/.venv/lib/python3.10/site-packages/pm4py/objects/ocel/util/ocel_consistency.py:92: SettingWithCopyWarning: \n",
      "A value is trying to be set on a copy of a slice from a DataFrame.\n",
      "Try using .loc[row_indexer,col_indexer] = value instead\n",
      "\n",
      "See the caveats in the documentation: https://pandas.pydata.org/pandas-docs/stable/user_guide/indexing.html#returning-a-view-versus-a-copy\n",
      "  df[col] = df[col].astype(str)\n"
     ]
    }
   ],
   "source": [
    "import pm4py\n",
    "import pandas as pd\n",
    "import networkx as nx\n",
    "\n",
    "ocel = pm4py.read_ocel2_sqlite(\"/home/grkmr/Downloads/age_of_empires_ocel2.sqlite\")\n",
    "\n",
    "def compute_event_object_graph(ocel: pm4py.OCEL) -> nx.DiGraph:\n",
    "    \"\"\"\n",
    "    Builds a directed event-object graph (EOG) from an OCEL using directly-follows per object.\n",
    "\n",
    "    Each event becomes a node, and edges are added between events that refer to the same object\n",
    "    and occur consecutively in time.\n",
    "\n",
    "    :param ocel: PM4Py OCEL object\n",
    "    :return: networkx.DiGraph representing the EOG\n",
    "    \"\"\"\n",
    "    event_object_graph = nx.DiGraph()\n",
    "\n",
    "    # Step 1: Add each event as a node in the graph\n",
    "    event_ids = ocel.events[ocel.event_id_column].to_list()\n",
    "    event_object_graph.add_nodes_from(event_ids)\n",
    "\n",
    "    # Step 2: Sort and group by object, then generate adjacent event pairs\n",
    "    object_with_sorted_events = (\n",
    "        ocel.relations\n",
    "        .sort_values(ocel.event_timestamp)\n",
    "        .groupby(ocel.object_id_column)[\"ocel:eid\"]\n",
    "        .apply(lambda lst: list(zip(lst, lst[1:])))  # adjacent pairs only\n",
    "        .explode()\n",
    "        .dropna()\n",
    "        .to_list()\n",
    "    )\n",
    "\n",
    "    # Step 3: Add those event-event edges to the graph\n",
    "    event_object_graph.add_edges_from(object_with_sorted_events)\n",
    "\n",
    "    return event_object_graph\n",
    "\n",
    "def compute_process_executions_connected_components(ocel:pm4py.OCEL):\n",
    "    return sorted(\n",
    "            nx.weakly_connected_components(compute_event_object_graph(ocel)), key=len, reverse=True\n",
    "        )\n"
   ]
  },
  {
   "cell_type": "code",
   "execution_count": 4,
   "id": "80309e4d-ad3f-402d-a11b-35163660e63c",
   "metadata": {},
   "outputs": [],
   "source": [
    "from itertools import combinations"
   ]
  },
  {
   "cell_type": "code",
   "execution_count": 10,
   "id": "0ae36997-5156-42bb-a530-14374ed532dd",
   "metadata": {},
   "outputs": [
    {
     "data": {
      "text/plain": [
       "['Archery Range',\n",
       " 'Barracks',\n",
       " 'Blacksmith',\n",
       " 'Bombard Tower',\n",
       " 'Castle',\n",
       " 'Dock',\n",
       " 'Donjon',\n",
       " 'Farm',\n",
       " 'Feitoria',\n",
       " 'Fish Trap',\n",
       " 'Gate',\n",
       " 'House',\n",
       " 'Krepost',\n",
       " 'Lumber Camp',\n",
       " 'Market',\n",
       " 'Match',\n",
       " 'Mill',\n",
       " 'Mining Camp',\n",
       " 'Monastery',\n",
       " 'None',\n",
       " 'Outpost',\n",
       " 'Palisade Gate',\n",
       " 'Player',\n",
       " 'Session',\n",
       " 'Siege Workshop',\n",
       " 'Stable',\n",
       " 'Town Center',\n",
       " 'University',\n",
       " 'Villager',\n",
       " 'Watch Tower']"
      ]
     },
     "execution_count": 10,
     "metadata": {},
     "output_type": "execute_result"
    }
   ],
   "source": [
    "pm4py.ocel_get_object_types(ocel)"
   ]
  },
  {
   "cell_type": "code",
   "execution_count": 24,
   "id": "5faa8d73-cc53-4763-af3e-c84c95758c4f",
   "metadata": {},
   "outputs": [],
   "source": [
    "def leading_type_process_executions(ocel:pm4py.OCEL, leading_type :str):\n",
    "    objects = ocel.relations.groupby(ocel.object_id_column).agg({ocel.event_id_column:list,ocel.object_type_column :'first'}).to_dict(\"index\").items()\n",
    "    edges = ocel.relations.groupby(ocel.event_id_column)[ocel.object_id_column].apply(lambda x: list(combinations(x, 2))).explode().dropna().to_list()\n",
    "\n",
    "    object_graph = nx.Graph()\n",
    "    object_graph.add_nodes_from(objects)\n",
    "    object_graph.add_edges_from(edges)\n",
    "\n",
    "    \n",
    "    cases = []\n",
    "\n",
    "    for object_id in ocel.objects[ocel.objects[ocel.object_type_column] == leading_type][ocel.object_id_column]:\n",
    "        print(object_id)\n",
    "        relevant_objects = {object_id}\n",
    "        events = set(object_graph.nodes[object_id][ocel.event_id_column])\n",
    "        next_level_objects = list(object_graph.neighbors(object_id))  \n",
    "        visited_object_types = {leading_type: 0}\n",
    "    \n",
    "        for level in range(1, len(pm4py.ocel_get_object_types(ocel))):\n",
    "            to_be_next_level_objects = []\n",
    "    \n",
    "            for current_object_id in next_level_objects:\n",
    "                current_object_type = object_graph.nodes[current_object_id][ocel.object_type_column] \n",
    "    \n",
    "                if current_object_type not in visited_object_types:\n",
    "                    visited_object_types[current_object_type] = level\n",
    "                elif visited_object_types[current_object_type] != level:\n",
    "                    continue\n",
    "    \n",
    "                to_be_next_level_objects.extend(object_graph.neighbors(current_object_id))\n",
    "                relevant_objects.add(current_object_id)\n",
    "                    \n",
    "            next_level_objects = list(set(to_be_next_level_objects)) \n",
    "    \n",
    "        cases.append((events, relevant_objects))\n",
    "    return cases"
   ]
  },
  {
   "cell_type": "code",
   "execution_count": null,
   "id": "a2169bf4-70e0-48e6-b1fd-967220d98210",
   "metadata": {},
   "outputs": [],
   "source": [
    "from itertools import combinations\n",
    "from collections import defaultdict\n",
    "\n",
    "event_groups = defaultdict(list)\n",
    "for _, row in ocel.relations[[ocel.event_id_column, ocel.object_id_column]].itertuples(index=False):\n",
    "    event_groups[row[0]].append(row[1])\n",
    "\n",
    "# Now generate combinations efficiently\n",
    "edges = []\n",
    "for obj_ids in event_groups.values():\n",
    "    if len(obj_ids) > 1:\n",
    "        edges.extend(combinations(obj_ids, 2))\n"
   ]
  },
  {
   "cell_type": "code",
   "execution_count": null,
   "id": "7111312b-ce2c-467e-936b-2a067ae7faf3",
   "metadata": {},
   "outputs": [],
   "source": []
  }
 ],
 "metadata": {
  "kernelspec": {
   "display_name": "Python 3 (ipykernel)",
   "language": "python",
   "name": "python3"
  },
  "language_info": {
   "codemirror_mode": {
    "name": "ipython",
    "version": 3
   },
   "file_extension": ".py",
   "mimetype": "text/x-python",
   "name": "python",
   "nbconvert_exporter": "python",
   "pygments_lexer": "ipython3",
   "version": "3.10.17"
  }
 },
 "nbformat": 4,
 "nbformat_minor": 5
}
