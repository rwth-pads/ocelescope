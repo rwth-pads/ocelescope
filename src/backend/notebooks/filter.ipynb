{
 "cells": [
  {
   "cell_type": "code",
   "execution_count": 6,
   "id": "b9aee181-b1af-49bb-b32b-b87e2152a66d",
   "metadata": {},
   "outputs": [],
   "source": [
    "import pm4py\n",
    "from pm4py.objects.ocel.obj import OCEL\n",
    "from typing import Optional\n",
    "import pandas as pd"
   ]
  },
  {
   "cell_type": "code",
   "execution_count": 8,
   "id": "c540bb12-f166-4c7c-90ca-db8b84a57bd8",
   "metadata": {
    "scrolled": true
   },
   "outputs": [
    {
     "name": "stderr",
     "output_type": "stream",
     "text": [
      "/home/grkmr/.cache/pypoetry/virtualenvs/ocean-backend-6RZTwyJ5-py3.10/lib/python3.10/site-packages/pm4py/objects/ocel/importer/sqlite/variants/ocel20.py:70: UserWarning: There are unsatisfied OCEL 2.0 constraints in the given relational database: ['const_12_existence_type_ocel_time_obj_type_spec_tables', 'const_14_primary_key_object_event_map_type_tables', 'const_15_primary_key_object_event_tables', 'const_16_primary_key_event_object_table', 'const_17_primary_key_object_object_table', 'const_18_primary_key_event_type_spec_tables', 'const_19_foreign_key_event', 'const_20_foreign_key_object', 'const_21_foreign_key_event_object', 'const_22_foreign_key_object_object', 'const_23_foreign_key_event_type_specific', 'const_24_foreign_key_object_type_specific']\n",
      "  warnings.warn(\"There are unsatisfied OCEL 2.0 constraints in the given relational database: \"+str(unsatisfied))\n",
      "/home/grkmr/.cache/pypoetry/virtualenvs/ocean-backend-6RZTwyJ5-py3.10/lib/python3.10/site-packages/pm4py/objects/log/util/dataframe_utils.py:186: SettingWithCopyWarning: \n",
      "A value is trying to be set on a copy of a slice from a DataFrame.\n",
      "Try using .loc[row_indexer,col_indexer] = value instead\n",
      "\n",
      "See the caveats in the documentation: https://pandas.pydata.org/pandas-docs/stable/user_guide/indexing.html#returning-a-view-versus-a-copy\n",
      "  df[col] = pandas_utils.dataframe_column_string_to_datetime(df[col], format=timest_format, utc=True)\n",
      "/home/grkmr/.cache/pypoetry/virtualenvs/ocean-backend-6RZTwyJ5-py3.10/lib/python3.10/site-packages/pm4py/objects/log/util/dataframe_utils.py:198: SettingWithCopyWarning: \n",
      "A value is trying to be set on a copy of a slice from a DataFrame.\n",
      "Try using .loc[row_indexer,col_indexer] = value instead\n",
      "\n",
      "See the caveats in the documentation: https://pandas.pydata.org/pandas-docs/stable/user_guide/indexing.html#returning-a-view-versus-a-copy\n",
      "  df[col] = strpfromiso.fix_dataframe_column(df[col])\n",
      "/home/grkmr/.cache/pypoetry/virtualenvs/ocean-backend-6RZTwyJ5-py3.10/lib/python3.10/site-packages/pm4py/objects/ocel/importer/sqlite/variants/ocel20.py:160: SettingWithCopyWarning: \n",
      "A value is trying to be set on a copy of a slice from a DataFrame.\n",
      "Try using .loc[row_indexer,col_indexer] = value instead\n",
      "\n",
      "See the caveats in the documentation: https://pandas.pydata.org/pandas-docs/stable/user_guide/indexing.html#returning-a-view-versus-a-copy\n",
      "  object_changes[internal_index] = object_changes.index\n",
      "/home/grkmr/.cache/pypoetry/virtualenvs/ocean-backend-6RZTwyJ5-py3.10/lib/python3.10/site-packages/pm4py/objects/ocel/util/ocel_consistency.py:53: SettingWithCopyWarning: \n",
      "A value is trying to be set on a copy of a slice from a DataFrame.\n",
      "Try using .loc[row_indexer,col_indexer] = value instead\n",
      "\n",
      "See the caveats in the documentation: https://pandas.pydata.org/pandas-docs/stable/user_guide/indexing.html#returning-a-view-versus-a-copy\n",
      "  df[tfields] = df[tfields].astype(\"string\")\n"
     ]
    }
   ],
   "source": [
    "ocel = pm4py.read_ocel2_sqlite(\"../data/event_logs/socel_hinge.sqlite\")"
   ]
  },
  {
   "cell_type": "markdown",
   "id": "910ca6ab-3824-4f7d-bf41-16a0271d79f1",
   "metadata": {},
   "source": [
    "# Filter"
   ]
  },
  {
   "cell_type": "code",
   "execution_count": 11,
   "id": "328174f7-57ea-4f3a-96ce-8fa398b568f8",
   "metadata": {},
   "outputs": [],
   "source": [
    "from typing import Literal, Optional\n",
    "from pydantic import BaseModel\n",
    "\n",
    "class BaseFilterConfig(BaseModel):\n",
    "    type: str\n",
    "    mode: Optional[Literal[\"include\", \"exclude\"]] = \"include\""
   ]
  },
  {
   "cell_type": "markdown",
   "id": "a708df5f-87e3-431c-8cc6-b3ca7211ef60",
   "metadata": {},
   "source": [
    "## Filter Entities by type"
   ]
  },
  {
   "cell_type": "code",
   "execution_count": 12,
   "id": "1653b202-4eb6-4500-97ae-8dd1c005fd3a",
   "metadata": {},
   "outputs": [],
   "source": [
    "def filter_by_entity_types(entity_table:pd.DataFrame,entity_type_field:str,entity_type_list:list[str],include:bool=True):\n",
    "    eventMask = entity_table[entity_type_field].isin(entity_type_list)\n",
    "    return eventMask if include else ~eventMask"
   ]
  },
  {
   "cell_type": "markdown",
   "id": "fa6251f9-1e50-438e-bcd7-40792761801f",
   "metadata": {},
   "source": [
    "### Filter by activity name"
   ]
  },
  {
   "cell_type": "code",
   "execution_count": 13,
   "id": "1afa86b1-b9d5-4b33-98e9-cd068eb24580",
   "metadata": {},
   "outputs": [],
   "source": [
    "class EventTypeFilterConfig(BaseFilterConfig):\n",
    "    type: Literal[\"event_type\"]\n",
    "    event_types: list[str]"
   ]
  },
  {
   "cell_type": "code",
   "execution_count": 14,
   "id": "f15cd6dc-c6f1-403b-b332-5f68045986b0",
   "metadata": {},
   "outputs": [],
   "source": [
    "def filter_by_event_types(ocel:OCEL,event_types:list[str],include:bool=True):\n",
    "    return filter_by_entity_types(ocel.events, ocel.event_activity, event_types, include)"
   ]
  },
  {
   "cell_type": "markdown",
   "id": "4efbff36-6234-47ed-ab0e-634bba375b19",
   "metadata": {},
   "source": [
    "### Filter by object type"
   ]
  },
  {
   "cell_type": "code",
   "execution_count": 15,
   "id": "32140572-8cdb-4065-ad71-09844b89343f",
   "metadata": {},
   "outputs": [],
   "source": [
    "class ObjectTypeFilterConfig(BaseFilterConfig):\n",
    "    type:Literal[\"object_type\"]\n",
    "    object_types:list[str]"
   ]
  },
  {
   "cell_type": "code",
   "execution_count": 15,
   "id": "3bd5c775-7484-477a-a05e-6cc1be55a347",
   "metadata": {},
   "outputs": [],
   "source": [
    "def filter_by_object_types(ocel:OCEL,object_types:list[str],include:bool=True):\n",
    "    return filter_by_entity_types(ocel.objects, ocel.object_id_column, object_types, include)"
   ]
  },
  {
   "cell_type": "markdown",
   "id": "173b8a22-ca8c-4228-9560-2cf6e47999f6",
   "metadata": {
    "jp-MarkdownHeadingCollapsed": true
   },
   "source": [
    "## Filter Entities by frequencies"
   ]
  },
  {
   "cell_type": "code",
   "execution_count": 17,
   "id": "5d06f7c0-bb13-4ffb-bfc5-aa866fc85cd3",
   "metadata": {},
   "outputs": [],
   "source": [
    "def filter_by_entity_frequency(entity_tabele:pd.DataFrame, entity_type_field:str, threshold:int):\n",
    "    cumulative_freq = entity_table.value_counts(entity_type_field, normalize=True).cumsum()\n",
    "    included_entities = cumulative_freq[cumulative_freq <= threshold].index\n",
    "    return filter_by_entity_types(entity_table,entity_type_field,included_entities)"
   ]
  },
  {
   "cell_type": "markdown",
   "id": "c6a71738-10b8-4861-a018-859f84ee018e",
   "metadata": {},
   "source": [
    "### Filter by Activity type frequency "
   ]
  },
  {
   "cell_type": "code",
   "execution_count": 19,
   "id": "d8c8b395-35a0-4abb-b7b9-8e4e2e3aa9e3",
   "metadata": {},
   "outputs": [],
   "source": [
    "def filter_by_activity_frequency(ocel:OCEL, threshold:int):\n",
    "    return filter_by_entity_frequency(ocel.events, ocel.event_activity, threshold)"
   ]
  },
  {
   "cell_type": "markdown",
   "id": "154c6f04-c418-4520-8437-b5e7810fb1f4",
   "metadata": {},
   "source": [
    "### Filter by Object type frequency"
   ]
  },
  {
   "cell_type": "code",
   "execution_count": 21,
   "id": "074ea9bb-84b9-4772-ab71-1072f26d4ae9",
   "metadata": {},
   "outputs": [],
   "source": [
    "def filter_by_object_frequency(ocel:OCEL, threshold:int):\n",
    "    return filter_by_entity_frequency(ocel.objects, ocel.object_id_column, threshold)"
   ]
  },
  {
   "cell_type": "markdown",
   "id": "ce5a93c2-1c83-4e2b-8eaf-58243f87f913",
   "metadata": {},
   "source": [
    "## Filter by time range"
   ]
  },
  {
   "cell_type": "code",
   "execution_count": 79,
   "id": "ddfde851-dd67-46b9-bc7a-14ece265bf64",
   "metadata": {},
   "outputs": [],
   "source": [
    "def filter_by_time_range(ocel:OCEL,start_time:Optional[str]=None, end_time:Optional[str]=None , include:bool=True):\n",
    "    if start_time is not None:\n",
    "        start_time = pd.Timestamp(start_time, tz=\"UTC\")\n",
    "    if end_time is not None:\n",
    "        end_time = pd.Timestamp(end_time, tz=\"UTC\")\n",
    "    \n",
    "    events_df = ocel.events\n",
    "\n",
    "    mask = pd.Series([True] * len(events_df), index=events_df.index)\n",
    "    if start_time is not None:\n",
    "        mask &= events_df[\"ocel:timestamp\"] >= start_time\n",
    "    if end_time is not None:\n",
    "        mask &= events_df[\"ocel:timestamp\"] <= end_time\n",
    "\n",
    "    return mask if include else ~mask"
   ]
  },
  {
   "cell_type": "code",
   "execution_count": null,
   "id": "ff83a4c6-35c5-46a4-8251-68212c14a744",
   "metadata": {},
   "outputs": [],
   "source": []
  }
 ],
 "metadata": {
  "kernelspec": {
   "display_name": "Python 3 (ipykernel)",
   "language": "python",
   "name": "python3"
  },
  "language_info": {
   "codemirror_mode": {
    "name": "ipython",
    "version": 3
   },
   "file_extension": ".py",
   "mimetype": "text/x-python",
   "name": "python",
   "nbconvert_exporter": "python",
   "pygments_lexer": "ipython3",
   "version": "3.10.16"
  }
 },
 "nbformat": 4,
 "nbformat_minor": 5
}
