{
 "cells": [
  {
   "cell_type": "code",
   "execution_count": 1,
   "id": "b9aee181-b1af-49bb-b32b-b87e2152a66d",
   "metadata": {},
   "outputs": [],
   "source": [
    "import pm4py\n",
    "from pm4py.objects.ocel.obj import OCEL\n",
    "from typing import Optional\n",
    "import pandas as pd"
   ]
  },
  {
   "cell_type": "code",
   "execution_count": 2,
   "id": "c540bb12-f166-4c7c-90ca-db8b84a57bd8",
   "metadata": {
    "collapsed": true,
    "jupyter": {
     "outputs_hidden": true
    },
    "scrolled": true
   },
   "outputs": [
    {
     "name": "stderr",
     "output_type": "stream",
     "text": [
      "/home/grkmr/Projects/ocean/src/backend/.venv/lib/python3.10/site-packages/pm4py/objects/ocel/importer/sqlite/variants/ocel20.py:70: UserWarning: There are unsatisfied OCEL 2.0 constraints in the given relational database: ['const_12_existence_type_ocel_time_obj_type_spec_tables', 'const_13_existence_type_ocel_time_ev_type_spec_tables', 'const_14_primary_key_object_event_map_type_tables', 'const_15_primary_key_object_event_tables', 'const_16_primary_key_event_object_table', 'const_17_primary_key_object_object_table', 'const_18_primary_key_event_type_spec_tables', 'const_19_foreign_key_event', 'const_20_foreign_key_object', 'const_21_foreign_key_event_object', 'const_22_foreign_key_object_object', 'const_23_foreign_key_event_type_specific', 'const_24_foreign_key_object_type_specific']\n",
      "  warnings.warn(\"There are unsatisfied OCEL 2.0 constraints in the given relational database: \"+str(unsatisfied))\n",
      "/home/grkmr/Projects/ocean/src/backend/.venv/lib/python3.10/site-packages/pm4py/objects/log/util/dataframe_utils.py:186: SettingWithCopyWarning: \n",
      "A value is trying to be set on a copy of a slice from a DataFrame.\n",
      "Try using .loc[row_indexer,col_indexer] = value instead\n",
      "\n",
      "See the caveats in the documentation: https://pandas.pydata.org/pandas-docs/stable/user_guide/indexing.html#returning-a-view-versus-a-copy\n",
      "  df[col] = pandas_utils.dataframe_column_string_to_datetime(df[col], format=timest_format, utc=True)\n",
      "/home/grkmr/Projects/ocean/src/backend/.venv/lib/python3.10/site-packages/pm4py/objects/log/util/dataframe_utils.py:198: SettingWithCopyWarning: \n",
      "A value is trying to be set on a copy of a slice from a DataFrame.\n",
      "Try using .loc[row_indexer,col_indexer] = value instead\n",
      "\n",
      "See the caveats in the documentation: https://pandas.pydata.org/pandas-docs/stable/user_guide/indexing.html#returning-a-view-versus-a-copy\n",
      "  df[col] = strpfromiso.fix_dataframe_column(df[col])\n",
      "/home/grkmr/Projects/ocean/src/backend/.venv/lib/python3.10/site-packages/pm4py/objects/ocel/importer/sqlite/variants/ocel20.py:160: SettingWithCopyWarning: \n",
      "A value is trying to be set on a copy of a slice from a DataFrame.\n",
      "Try using .loc[row_indexer,col_indexer] = value instead\n",
      "\n",
      "See the caveats in the documentation: https://pandas.pydata.org/pandas-docs/stable/user_guide/indexing.html#returning-a-view-versus-a-copy\n",
      "  object_changes[internal_index] = object_changes.index\n",
      "/home/grkmr/Projects/ocean/src/backend/.venv/lib/python3.10/site-packages/pm4py/objects/ocel/util/ocel_consistency.py:53: SettingWithCopyWarning: \n",
      "A value is trying to be set on a copy of a slice from a DataFrame.\n",
      "Try using .loc[row_indexer,col_indexer] = value instead\n",
      "\n",
      "See the caveats in the documentation: https://pandas.pydata.org/pandas-docs/stable/user_guide/indexing.html#returning-a-view-versus-a-copy\n",
      "  df[tfields] = df[tfields].astype(\"string\")\n"
     ]
    }
   ],
   "source": [
    "ocel = pm4py.read_ocel2_sqlite(\"../data/event_logs/ContainerLogistics-v1.sqlite\")"
   ]
  },
  {
   "cell_type": "markdown",
   "id": "910ca6ab-3824-4f7d-bf41-16a0271d79f1",
   "metadata": {},
   "source": [
    "# Filter"
   ]
  },
  {
   "cell_type": "code",
   "execution_count": 19,
   "id": "e4551fc1-d6af-4280-8d6d-ce101fdc77fd",
   "metadata": {},
   "outputs": [],
   "source": [
    "from typing import Literal, Optional\n",
    "from pydantic import BaseModel\n",
    "\n",
    "class BaseFilterConfig(BaseModel):\n",
    "    type: str\n",
    "    mode: Optional[Literal[\"include\", \"exclude\"]] = \"include\""
   ]
  },
  {
   "cell_type": "markdown",
   "id": "a708df5f-87e3-431c-8cc6-b3ca7211ef60",
   "metadata": {},
   "source": [
    "## Filter Entities by type"
   ]
  },
  {
   "cell_type": "code",
   "execution_count": 20,
   "id": "1653b202-4eb6-4500-97ae-8dd1c005fd3a",
   "metadata": {},
   "outputs": [],
   "source": [
    "def filter_by_entity_types(entity_table:pd.DataFrame,entity_type_field:str,entity_type_list:list[str],include:bool=True):\n",
    "    eventMask = entity_table[entity_type_field].isin(entity_type_list)\n",
    "    return eventMask if include else ~eventMask"
   ]
  },
  {
   "cell_type": "markdown",
   "id": "fa6251f9-1e50-438e-bcd7-40792761801f",
   "metadata": {},
   "source": [
    "### Filter by activity name"
   ]
  },
  {
   "cell_type": "code",
   "execution_count": 21,
   "id": "1afa86b1-b9d5-4b33-98e9-cd068eb24580",
   "metadata": {},
   "outputs": [],
   "source": [
    "class EventTypeFilterConfig(BaseFilterConfig):\n",
    "    type: Literal[\"event_type\"]\n",
    "    event_types: list[str]"
   ]
  },
  {
   "cell_type": "code",
   "execution_count": 22,
   "id": "f15cd6dc-c6f1-403b-b332-5f68045986b0",
   "metadata": {},
   "outputs": [],
   "source": [
    "def filter_by_event_types(ocel:OCEL,event_types:list[str],include:bool=True):\n",
    "    return filter_by_entity_types(ocel.events, ocel.event_activity, event_types, include)"
   ]
  },
  {
   "cell_type": "markdown",
   "id": "4efbff36-6234-47ed-ab0e-634bba375b19",
   "metadata": {},
   "source": [
    "### Filter by object type"
   ]
  },
  {
   "cell_type": "code",
   "execution_count": 23,
   "id": "32140572-8cdb-4065-ad71-09844b89343f",
   "metadata": {},
   "outputs": [],
   "source": [
    "class ObjectTypeFilterConfig(BaseFilterConfig):\n",
    "    type:Literal[\"object_type\"]\n",
    "    object_types:list[str]"
   ]
  },
  {
   "cell_type": "code",
   "execution_count": 24,
   "id": "3bd5c775-7484-477a-a05e-6cc1be55a347",
   "metadata": {},
   "outputs": [],
   "source": [
    "def filter_by_object_types(ocel:OCEL,object_types:list[str],include:bool=True):\n",
    "    return filter_by_entity_types(ocel.objects, ocel.object_id_column, object_types, include)"
   ]
  },
  {
   "cell_type": "markdown",
   "id": "173b8a22-ca8c-4228-9560-2cf6e47999f6",
   "metadata": {},
   "source": [
    "## Filter Entities by frequencies"
   ]
  },
  {
   "cell_type": "code",
   "execution_count": 25,
   "id": "5d06f7c0-bb13-4ffb-bfc5-aa866fc85cd3",
   "metadata": {},
   "outputs": [],
   "source": [
    "def filter_by_entity_frequency(entity_tabele:pd.DataFrame, entity_type_field:str, threshold:int):\n",
    "    cumulative_freq = entity_table.value_counts(entity_type_field, normalize=True).cumsum()\n",
    "    included_entities = cumulative_freq[cumulative_freq <= threshold].index\n",
    "    return filter_by_entity_types(entity_table,entity_type_field,included_entities)"
   ]
  },
  {
   "cell_type": "markdown",
   "id": "c6a71738-10b8-4861-a018-859f84ee018e",
   "metadata": {},
   "source": [
    "### Filter by Activity type frequency "
   ]
  },
  {
   "cell_type": "code",
   "execution_count": 26,
   "id": "d8c8b395-35a0-4abb-b7b9-8e4e2e3aa9e3",
   "metadata": {},
   "outputs": [],
   "source": [
    "def filter_by_activity_frequency(ocel:OCEL, threshold:int):\n",
    "    return filter_by_entity_frequency(ocel.events, ocel.event_activity, threshold)"
   ]
  },
  {
   "cell_type": "markdown",
   "id": "154c6f04-c418-4520-8437-b5e7810fb1f4",
   "metadata": {},
   "source": [
    "### Filter by Object type frequency"
   ]
  },
  {
   "cell_type": "code",
   "execution_count": 27,
   "id": "074ea9bb-84b9-4772-ab71-1072f26d4ae9",
   "metadata": {},
   "outputs": [],
   "source": [
    "def filter_by_object_frequency(ocel:OCEL, threshold:int):\n",
    "    return filter_by_entity_frequency(ocel.objects, ocel.object_id_column, threshold)"
   ]
  },
  {
   "cell_type": "markdown",
   "id": "ce5a93c2-1c83-4e2b-8eaf-58243f87f913",
   "metadata": {},
   "source": [
    "## Filter by time range"
   ]
  },
  {
   "cell_type": "code",
   "execution_count": 28,
   "id": "ddfde851-dd67-46b9-bc7a-14ece265bf64",
   "metadata": {},
   "outputs": [],
   "source": [
    "def filter_by_time_range(ocel:OCEL,start_time:Optional[str]=None, end_time:Optional[str]=None , include:bool=True):\n",
    "    if start_time is not None:\n",
    "        start_time = pd.Timestamp(start_time, tz=\"UTC\")\n",
    "    if end_time is not None:\n",
    "        end_time = pd.Timestamp(end_time, tz=\"UTC\")\n",
    "    \n",
    "    events_df = ocel.events\n",
    "\n",
    "    mask = pd.Series([True] * len(events_df), index=events_df.index)\n",
    "    if start_time is not None:\n",
    "        mask &= events_df[\"ocel:timestamp\"] >= start_time\n",
    "    if end_time is not None:\n",
    "        mask &= events_df[\"ocel:timestamp\"] <= end_time\n",
    "\n",
    "    return mask if include else ~mask"
   ]
  },
  {
   "cell_type": "markdown",
   "id": "32b6cfff-d187-40db-96f3-f6b35f57cf88",
   "metadata": {},
   "source": [
    "## Filter by Relation Count"
   ]
  },
  {
   "cell_type": "markdown",
   "id": "d5ecfe37-2b57-4196-8984-6ff03de3c74c",
   "metadata": {},
   "source": [
    "### E20"
   ]
  },
  {
   "cell_type": "code",
   "execution_count": 137,
   "id": "0a7a2733-b234-4640-b4e5-8b731bc2f471",
   "metadata": {},
   "outputs": [],
   "source": [
    "def filter_by_e2o_counts(\n",
    "    ocel: OCEL,\n",
    "    event_type: str,\n",
    "    object_type: str,\n",
    "    min_relations: int,\n",
    "    entity_field: Optional[Literal[\"object\", \"event\"]] = \"object\",\n",
    "    max_relations: Optional[int] = None,\n",
    "    qualifier: Optional[str] = None\n",
    "):\n",
    "    target_id = ocel.event_id_column if entity_field == \"event\" else ocel.object_id_column\n",
    "    target_dataframe = ocel.events if entity_field ==\"event\" else ocel.objects\n",
    "    mask = (\n",
    "        (ocel.relations[ocel.event_activity] == event_type) &\n",
    "        (ocel.relations[ocel.object_type_column] == object_type)\n",
    "    )\n",
    "    \n",
    "    if qualifier is not None and 'qualifier' in ocel.relations.columns:\n",
    "        mask &= (ocel.relations['qualifier'] == qualifier)\n",
    "    \n",
    "    filtered_relations = ocel.relations[mask]\n",
    "\n",
    "    entity_counts = (\n",
    "        filtered_relations\n",
    "        .groupby(target_id)\n",
    "        .size()\n",
    "        .reset_index(name='entity_count')\n",
    "    )\n",
    "    \n",
    "    if max_relations is not None:\n",
    "        entity_counts = entity_counts[\n",
    "            (entity_counts['entity_count'] >= min_relations) & \n",
    "            (entity_counts['entity_count'] <= max_relations)\n",
    "        ]\n",
    "    else:\n",
    "        entity_counts = entity_counts[entity_counts['entity_count'] >= min_relations]\n",
    "    \n",
    "    entity_mask = (target_dataframe[ocel.event_activity if entity_field ==\"event\" else ocel.object_type_column] !=(event_type if entity_field ==\"event\" else object_type) ) |  (target_dataframe[target_id].isin(entity_counts[target_id]))\n",
    "    \n",
    "    return entity_mask"
   ]
  },
  {
   "cell_type": "code",
   "execution_count": 140,
   "id": "c52177a7-9312-44bc-beca-6f76d8cc9eea",
   "metadata": {},
   "outputs": [],
   "source": [
    "    qualifier_col = ocel.qualifier\n",
    "    activity_col = ocel.event_activity\n",
    "    object_type_col = ocel.object_type_column\n",
    "    event_id_col = ocel.event_id_column\n",
    "\n",
    "    grouped_relations = (\n",
    "        ocel.relations.groupby(\n",
    "            [event_id_col, qualifier_col, activity_col, object_type_col]\n",
    "        )\n",
    "        .size()\n",
    "        .reset_index()\n",
    "        .rename(columns={0: \"count\"})\n",
    "    )\n",
    "\n",
    "    summary: pd.DataFrame = (\n",
    "        grouped_relations.groupby([qualifier_col, activity_col, object_type_col])[\n",
    "            \"count\"\n",
    "        ]\n",
    "        .agg([\"min\", \"max\"])\n",
    "        .reset_index()\n",
    "        .rename(columns={\"min\": \"min_count\", \"max\": \"max_count\"})\n",
    "    )\n",
    "\n",
    " "
   ]
  },
  {
   "cell_type": "code",
   "execution_count": 152,
   "id": "5e6732e8-f54b-467b-9126-7a2ffb192c47",
   "metadata": {},
   "outputs": [],
   "source": [
    "def get_e2o_summary(ocel:OCEL, direction:Optional[Literal[\"event\" ,\"object\"]]=\"event\"):\n",
    "    qualifier_col = ocel.qualifier\n",
    "    activity_col = ocel.event_activity\n",
    "    object_type_col = ocel.object_type_column\n",
    "    event_id_col = ocel.event_id_column\n",
    "    object_id_col = ocel.object_id_column\n",
    "\n",
    "    grouped_relations = (\n",
    "        ocel.relations.groupby(\n",
    "            [event_id_col if direction ==\"event\" else object_id_col, qualifier_col, activity_col, object_type_col]\n",
    "        )\n",
    "        .size()\n",
    "        .reset_index()\n",
    "        .rename(columns={0: \"count\"})\n",
    "    )\n",
    "\n",
    "    return (\n",
    "        grouped_relations.groupby([qualifier_col, activity_col, object_type_col])[\n",
    "            \"count\"\n",
    "        ]\n",
    "        .agg([\"min\", \"max\",\"sum\"])\n",
    "        .reset_index()\n",
    "        .rename(columns={\"min\": \"min_count\", \"max\": \"max_count\"})\n",
    "    )\n"
   ]
  },
  {
   "cell_type": "code",
   "execution_count": null,
   "id": "259dbd11-4171-4bce-bfd0-eec274e2cb3e",
   "metadata": {},
   "outputs": [],
   "source": []
  }
 ],
 "metadata": {
  "kernelspec": {
   "display_name": "Python 3 (ipykernel)",
   "language": "python",
   "name": "python3"
  },
  "language_info": {
   "codemirror_mode": {
    "name": "ipython",
    "version": 3
   },
   "file_extension": ".py",
   "mimetype": "text/x-python",
   "name": "python",
   "nbconvert_exporter": "python",
   "pygments_lexer": "ipython3",
   "version": "3.10.17"
  }
 },
 "nbformat": 4,
 "nbformat_minor": 5
}
