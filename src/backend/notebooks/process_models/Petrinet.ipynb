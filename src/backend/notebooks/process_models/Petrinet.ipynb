{
 "cells": [
  {
   "cell_type": "code",
   "execution_count": 66,
   "id": "e7ab1705-fdef-479c-a5be-2c80106ae387",
   "metadata": {},
   "outputs": [
    {
     "name": "stderr",
     "output_type": "stream",
     "text": [
      "/home/grkmr/Projects/ocelescope/src/backend/.venv/lib/python3.10/site-packages/pm4py/objects/ocel/importer/sqlite/variants/ocel20.py:75: UserWarning: There are unsatisfied OCEL 2.0 constraints in the given relational database: ['const_23_foreign_key_event_type_specific']\n",
      "  warnings.warn(\"There are unsatisfied OCEL 2.0 constraints in the given relational database: \"+str(unsatisfied))\n",
      "/home/grkmr/Projects/ocelescope/src/backend/.venv/lib/python3.10/site-packages/pm4py/objects/log/util/dataframe_utils.py:191: SettingWithCopyWarning: \n",
      "A value is trying to be set on a copy of a slice from a DataFrame.\n",
      "Try using .loc[row_indexer,col_indexer] = value instead\n",
      "\n",
      "See the caveats in the documentation: https://pandas.pydata.org/pandas-docs/stable/user_guide/indexing.html#returning-a-view-versus-a-copy\n",
      "  df[col] = pandas_utils.dataframe_column_string_to_datetime(df[col], format=timest_format, utc=True)\n",
      "/home/grkmr/Projects/ocelescope/src/backend/.venv/lib/python3.10/site-packages/pm4py/objects/log/util/dataframe_utils.py:203: SettingWithCopyWarning: \n",
      "A value is trying to be set on a copy of a slice from a DataFrame.\n",
      "Try using .loc[row_indexer,col_indexer] = value instead\n",
      "\n",
      "See the caveats in the documentation: https://pandas.pydata.org/pandas-docs/stable/user_guide/indexing.html#returning-a-view-versus-a-copy\n",
      "  df[col] = strpfromiso.fix_dataframe_column(df[col])\n",
      "/home/grkmr/Projects/ocelescope/src/backend/.venv/lib/python3.10/site-packages/pm4py/objects/ocel/importer/sqlite/variants/ocel20.py:170: SettingWithCopyWarning: \n",
      "A value is trying to be set on a copy of a slice from a DataFrame.\n",
      "Try using .loc[row_indexer,col_indexer] = value instead\n",
      "\n",
      "See the caveats in the documentation: https://pandas.pydata.org/pandas-docs/stable/user_guide/indexing.html#returning-a-view-versus-a-copy\n",
      "  object_changes[internal_index] = object_changes.index\n",
      "/home/grkmr/Projects/ocelescope/src/backend/.venv/lib/python3.10/site-packages/pm4py/objects/ocel/util/ocel_consistency.py:92: SettingWithCopyWarning: \n",
      "A value is trying to be set on a copy of a slice from a DataFrame.\n",
      "Try using .loc[row_indexer,col_indexer] = value instead\n",
      "\n",
      "See the caveats in the documentation: https://pandas.pydata.org/pandas-docs/stable/user_guide/indexing.html#returning-a-view-versus-a-copy\n",
      "  df[col] = df[col].astype(str)\n",
      "/home/grkmr/Projects/ocelescope/src/backend/.venv/lib/python3.10/site-packages/pm4py/objects/ocel/util/ocel_consistency.py:92: SettingWithCopyWarning: \n",
      "A value is trying to be set on a copy of a slice from a DataFrame.\n",
      "Try using .loc[row_indexer,col_indexer] = value instead\n",
      "\n",
      "See the caveats in the documentation: https://pandas.pydata.org/pandas-docs/stable/user_guide/indexing.html#returning-a-view-versus-a-copy\n",
      "  df[col] = df[col].astype(str)\n",
      "/home/grkmr/Projects/ocelescope/src/backend/.venv/lib/python3.10/site-packages/pm4py/objects/ocel/util/ocel_consistency.py:92: SettingWithCopyWarning: \n",
      "A value is trying to be set on a copy of a slice from a DataFrame.\n",
      "Try using .loc[row_indexer,col_indexer] = value instead\n",
      "\n",
      "See the caveats in the documentation: https://pandas.pydata.org/pandas-docs/stable/user_guide/indexing.html#returning-a-view-versus-a-copy\n",
      "  df[col] = df[col].astype(str)\n",
      "/home/grkmr/Projects/ocelescope/src/backend/.venv/lib/python3.10/site-packages/pm4py/objects/ocel/util/ocel_consistency.py:92: SettingWithCopyWarning: \n",
      "A value is trying to be set on a copy of a slice from a DataFrame.\n",
      "Try using .loc[row_indexer,col_indexer] = value instead\n",
      "\n",
      "See the caveats in the documentation: https://pandas.pydata.org/pandas-docs/stable/user_guide/indexing.html#returning-a-view-versus-a-copy\n",
      "  df[col] = df[col].astype(str)\n",
      "/home/grkmr/Projects/ocelescope/src/backend/.venv/lib/python3.10/site-packages/pm4py/objects/ocel/util/ocel_consistency.py:92: SettingWithCopyWarning: \n",
      "A value is trying to be set on a copy of a slice from a DataFrame.\n",
      "Try using .loc[row_indexer,col_indexer] = value instead\n",
      "\n",
      "See the caveats in the documentation: https://pandas.pydata.org/pandas-docs/stable/user_guide/indexing.html#returning-a-view-versus-a-copy\n",
      "  df[col] = df[col].astype(str)\n",
      "/home/grkmr/Projects/ocelescope/src/backend/.venv/lib/python3.10/site-packages/pm4py/objects/ocel/util/ocel_consistency.py:92: SettingWithCopyWarning: \n",
      "A value is trying to be set on a copy of a slice from a DataFrame.\n",
      "Try using .loc[row_indexer,col_indexer] = value instead\n",
      "\n",
      "See the caveats in the documentation: https://pandas.pydata.org/pandas-docs/stable/user_guide/indexing.html#returning-a-view-versus-a-copy\n",
      "  df[col] = df[col].astype(str)\n"
     ]
    }
   ],
   "source": [
    "import pm4py\n",
    "import pandas as pd\n",
    "import networkx as nx\n",
    "\n",
    "ocel = pm4py.read_ocel2_sqlite(\"/home/grkmr/data/ocels/ContainerLogistics.sqlite\")"
   ]
  },
  {
   "cell_type": "code",
   "execution_count": 67,
   "id": "16a0a677-1f98-4af0-ad9e-8cf0836d04a7",
   "metadata": {},
   "outputs": [],
   "source": [
    "ocdfg = pm4py.discover_ocdfg(ocel)"
   ]
  },
  {
   "cell_type": "code",
   "execution_count": 68,
   "id": "b70ff9c3-d215-43b1-896a-6f61ce5a7cf0",
   "metadata": {
    "scrolled": true
   },
   "outputs": [],
   "source": [
    "edge_count_dict = {}\n",
    "for object_type, values in ocdfg[\"edges\"]['event_couples'].items():\n",
    "    for key,events in values.items():\n",
    "        edge_count_dict[(object_type, key)] = len(events)"
   ]
  },
  {
   "cell_type": "code",
   "execution_count": 80,
   "id": "dafb08c3-b5d1-452b-90e1-cb11c423f87f",
   "metadata": {},
   "outputs": [],
   "source": [
    "start_edge_count = {}\n",
    "for object_type, values in ocdfg['start_activities'][\"events\"].items():\n",
    "     for key,events in values.items():\n",
    "        start_edge_count[(object_type, key)] = len(events)"
   ]
  },
  {
   "cell_type": "code",
   "execution_count": 82,
   "id": "360bf2dc-767a-44b6-bae8-7372f9485f0e",
   "metadata": {},
   "outputs": [],
   "source": [
    "end_edge_count = {}\n",
    "for object_type, values in ocdfg['end_activities'][\"events\"].items():\n",
    "     for key,events in values.items():\n",
    "        end_edge_count[(object_type, key)] = len(events)"
   ]
  },
  {
   "cell_type": "code",
   "execution_count": 85,
   "id": "18b71804-a39f-4d75-823e-65094abd517b",
   "metadata": {},
   "outputs": [
    {
     "data": {
      "text/plain": [
       "{('Container', 'Bring to Loading Bay'): 2,\n",
       " ('Container', 'Depart'): 127,\n",
       " ('Container', 'Load Truck'): 5,\n",
       " ('Container', 'Load to Vehicle'): 10,\n",
       " ('Container', 'Order Empty Containers'): 4,\n",
       " ('Container', 'Pick Up Empty Container'): 1,\n",
       " ('Container', 'Place in Stock'): 20,\n",
       " ('Container', 'Reschedule Container'): 1,\n",
       " ('Customer Order', 'Create Transport Document'): 594,\n",
       " ('Customer Order', 'Register Customer Order'): 6,\n",
       " ('Transport Document', 'Book Vehicles'): 1,\n",
       " ('Transport Document', 'Depart'): 125,\n",
       " ('Transport Document', 'Order Empty Containers'): 19,\n",
       " ('Transport Document', 'Reschedule Container'): 1,\n",
       " ('Vehicle', 'Depart'): 127}"
      ]
     },
     "execution_count": 85,
     "metadata": {},
     "output_type": "execute_result"
    }
   ],
   "source": [
    "end_edge_count"
   ]
  },
  {
   "cell_type": "code",
   "execution_count": null,
   "id": "ffcdfd4a-77fa-4e9d-b35c-fc1e3de039a4",
   "metadata": {},
   "outputs": [],
   "source": []
  }
 ],
 "metadata": {
  "kernelspec": {
   "display_name": "Python 3 (ipykernel)",
   "language": "python",
   "name": "python3"
  },
  "language_info": {
   "codemirror_mode": {
    "name": "ipython",
    "version": 3
   },
   "file_extension": ".py",
   "mimetype": "text/x-python",
   "name": "python",
   "nbconvert_exporter": "python",
   "pygments_lexer": "ipython3",
   "version": "3.10.16"
  }
 },
 "nbformat": 4,
 "nbformat_minor": 5
}
