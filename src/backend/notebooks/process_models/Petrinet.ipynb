{
 "cells": [
  {
   "cell_type": "code",
   "execution_count": 1,
   "id": "e7ab1705-fdef-479c-a5be-2c80106ae387",
   "metadata": {
    "scrolled": true
   },
   "outputs": [
    {
     "name": "stderr",
     "output_type": "stream",
     "text": [
      "/home/grkmr/Projects/ocelescope/src/backend/.venv/lib/python3.10/site-packages/pm4py/objects/ocel/importer/sqlite/variants/ocel20.py:75: UserWarning: There are unsatisfied OCEL 2.0 constraints in the given relational database: ['const_14_primary_key_object_event_map_type_tables', 'const_15_primary_key_object_event_tables', 'const_16_primary_key_event_object_table', 'const_17_primary_key_object_object_table', 'const_18_primary_key_event_type_spec_tables', 'const_19_foreign_key_event', 'const_20_foreign_key_object', 'const_21_foreign_key_event_object', 'const_22_foreign_key_object_object', 'const_23_foreign_key_event_type_specific', 'const_24_foreign_key_object_type_specific']\n",
      "  warnings.warn(\"There are unsatisfied OCEL 2.0 constraints in the given relational database: \"+str(unsatisfied))\n",
      "/home/grkmr/Projects/ocelescope/src/backend/.venv/lib/python3.10/site-packages/pm4py/objects/log/util/dataframe_utils.py:191: SettingWithCopyWarning: \n",
      "A value is trying to be set on a copy of a slice from a DataFrame.\n",
      "Try using .loc[row_indexer,col_indexer] = value instead\n",
      "\n",
      "See the caveats in the documentation: https://pandas.pydata.org/pandas-docs/stable/user_guide/indexing.html#returning-a-view-versus-a-copy\n",
      "  df[col] = pandas_utils.dataframe_column_string_to_datetime(df[col], format=timest_format, utc=True)\n",
      "/home/grkmr/Projects/ocelescope/src/backend/.venv/lib/python3.10/site-packages/pm4py/objects/log/util/dataframe_utils.py:203: SettingWithCopyWarning: \n",
      "A value is trying to be set on a copy of a slice from a DataFrame.\n",
      "Try using .loc[row_indexer,col_indexer] = value instead\n",
      "\n",
      "See the caveats in the documentation: https://pandas.pydata.org/pandas-docs/stable/user_guide/indexing.html#returning-a-view-versus-a-copy\n",
      "  df[col] = strpfromiso.fix_dataframe_column(df[col])\n",
      "/home/grkmr/Projects/ocelescope/src/backend/.venv/lib/python3.10/site-packages/pm4py/objects/ocel/importer/sqlite/variants/ocel20.py:170: SettingWithCopyWarning: \n",
      "A value is trying to be set on a copy of a slice from a DataFrame.\n",
      "Try using .loc[row_indexer,col_indexer] = value instead\n",
      "\n",
      "See the caveats in the documentation: https://pandas.pydata.org/pandas-docs/stable/user_guide/indexing.html#returning-a-view-versus-a-copy\n",
      "  object_changes[internal_index] = object_changes.index\n",
      "/home/grkmr/Projects/ocelescope/src/backend/.venv/lib/python3.10/site-packages/pm4py/objects/ocel/util/ocel_consistency.py:92: SettingWithCopyWarning: \n",
      "A value is trying to be set on a copy of a slice from a DataFrame.\n",
      "Try using .loc[row_indexer,col_indexer] = value instead\n",
      "\n",
      "See the caveats in the documentation: https://pandas.pydata.org/pandas-docs/stable/user_guide/indexing.html#returning-a-view-versus-a-copy\n",
      "  df[col] = df[col].astype(str)\n",
      "/home/grkmr/Projects/ocelescope/src/backend/.venv/lib/python3.10/site-packages/pm4py/objects/ocel/util/ocel_consistency.py:92: SettingWithCopyWarning: \n",
      "A value is trying to be set on a copy of a slice from a DataFrame.\n",
      "Try using .loc[row_indexer,col_indexer] = value instead\n",
      "\n",
      "See the caveats in the documentation: https://pandas.pydata.org/pandas-docs/stable/user_guide/indexing.html#returning-a-view-versus-a-copy\n",
      "  df[col] = df[col].astype(str)\n"
     ]
    }
   ],
   "source": [
    "import pm4py\n",
    "import pandas as pd\n",
    "import networkx as nx\n",
    "\n",
    "ocel = pm4py.read_ocel2_sqlite(\"/home/grkmr/Downloads/ContainerLogistics-v1.sqlite\")"
   ]
  },
  {
   "cell_type": "code",
   "execution_count": 2,
   "id": "16a0a677-1f98-4af0-ad9e-8cf0836d04a7",
   "metadata": {},
   "outputs": [],
   "source": [
    "ocdfg = pm4py.discover_oc_petri_net(ocel, diagnostics_with_tbr=True)"
   ]
  },
  {
   "cell_type": "code",
   "execution_count": 7,
   "id": "b70ff9c3-d215-43b1-896a-6f61ce5a7cf0",
   "metadata": {
    "scrolled": true
   },
   "outputs": [
    {
     "data": {
      "text/plain": [
       "dict_keys(['activities', 'object_types', 'edges', 'activities_indep', 'activities_ot', 'start_activities', 'end_activities', 'edges_performance', 'petri_nets', 'double_arcs_on_activity', 'tbr_results'])"
      ]
     },
     "execution_count": 7,
     "metadata": {},
     "output_type": "execute_result"
    }
   ],
   "source": [
    "ocdfg.keys()"
   ]
  },
  {
   "cell_type": "code",
   "execution_count": 9,
   "id": "dafb08c3-b5d1-452b-90e1-cb11c423f87f",
   "metadata": {
    "scrolled": true
   },
   "outputs": [
    {
     "data": {
      "text/plain": [
       "{'Customer Order': ({source: {'m': 0, 'r': 0, 'c': 600, 'p': 600},\n",
       "   sink: {'m': 0, 'r': 0, 'c': 600, 'p': 600},\n",
       "   p_3: {'m': 0, 'r': 0, 'c': 600, 'p': 600}},\n",
       "  {(16fd0e3e-1297-432e-b015-1183ddd8da10, 'Register Customer Order'): 600,\n",
       "   (33e7702c-1a3f-4926-966f-79f2289a1e71, 'Create Transport Document'): 594,\n",
       "   (skip_1, None): 6}),\n",
       " 'Container': ({p_5: {'m': 0, 'r': 0, 'c': 1996, 'p': 1996},\n",
       "   sink: {'m': 0, 'r': 0, 'c': 1996, 'p': 1996},\n",
       "   p_3: {'m': 0, 'r': 0, 'c': 1996, 'p': 1996},\n",
       "   p_6: {'m': 0, 'r': 0, 'c': 10551, 'p': 10551},\n",
       "   p_10: {'m': 0, 'r': 0, 'c': 1996, 'p': 1996},\n",
       "   p_11: {'m': 0, 'r': 0, 'c': 1996, 'p': 1996},\n",
       "   p_12: {'m': 0, 'r': 0, 'c': 1996, 'p': 1996},\n",
       "   p_13: {'m': 0, 'r': 0, 'c': 1996, 'p': 1996},\n",
       "   p_14: {'m': 0, 'r': 0, 'c': 1996, 'p': 1996},\n",
       "   source: {'m': 0, 'r': 0, 'c': 1996, 'p': 1996},\n",
       "   p_4: {'m': 0, 'r': 0, 'c': 1996, 'p': 1996},\n",
       "   p_7: {'m': 0, 'r': 0, 'c': 10551, 'p': 10551},\n",
       "   p_9: {'m': 0, 'r': 0, 'c': 1996, 'p': 1996}},\n",
       "  {(222fe6fd-4b41-4068-9542-38bf0a4826f0, 'Pick Up Empty Container'): 1995,\n",
       "   (skip_1, None): 1,\n",
       "   (skip_6, None): 1993,\n",
       "   (ce4819cf-5363-48b9-8a4e-d5f6cf58fb85, 'Load Truck'): 10551,\n",
       "   (skip_10, None): 36,\n",
       "   (826649d3-6195-4c6f-9c32-fcf197c645e6, 'Bring to Loading Bay'): 1960,\n",
       "   (skip_13, None): 40,\n",
       "   (37949596-043a-4f9e-be05-b9e991bfddf0, 'Depart'): 1956,\n",
       "   (skip_2, None): 3,\n",
       "   (skip_11, None): 1961,\n",
       "   (skip_7, None): 7,\n",
       "   (03cadf43-abef-4463-9745-3d70b4e1e403, 'Drive to Terminal'): 1989,\n",
       "   (79008c32-47b2-44b1-9403-68c49ac2e965, 'Reschedule Container'): 35,\n",
       "   (823bb81e-c673-4b1a-91b0-601689201c4e, 'Order Empty Containers'): 1996,\n",
       "   (skip_5, None): 8558,\n",
       "   (skip_8, None): 8,\n",
       "   (2e9d46c3-7f64-42af-ac84-1577dd15572a, 'Weigh'): 1988,\n",
       "   (skip_12, None): 37,\n",
       "   (15e672a7-c61a-41d6-b85d-9fab60ec0159, 'Load to Vehicle'): 1959,\n",
       "   (init_loop_3, None): 1993,\n",
       "   (skip_9, None): 182,\n",
       "   (7f12d4fd-6186-4092-9462-70f2401d9f12, 'Place in Stock'): 1814}),\n",
       " 'Transport Document': ({source: {'m': 0, 'r': 0, 'c': 594, 'p': 594},\n",
       "   sink: {'m': 0, 'r': 0, 'c': 594, 'p': 594},\n",
       "   p_4: {'m': 0, 'r': 0, 'c': 594, 'p': 594},\n",
       "   p_5: {'m': 0, 'r': 0, 'c': 594, 'p': 594},\n",
       "   p_6: {'m': 0, 'r': 0, 'c': 594, 'p': 594},\n",
       "   p_3: {'m': 0, 'r': 0, 'c': 594, 'p': 594},\n",
       "   p_7: {'m': 0, 'r': 0, 'c': 789, 'p': 789},\n",
       "   p_8: {'m': 0, 'r': 0, 'c': 789, 'p': 789}},\n",
       "  {(5c3d3ce1-02f1-406a-9c4b-16e5821662c5, 'Order Empty Containers'): 593,\n",
       "   (bf017a43-ed79-4055-9525-3e2775ed28dd, 'Create Transport Document'): 594,\n",
       "   (9d376ac2-8955-4b39-a5cc-8d1032cc77e1, 'Depart'): 754,\n",
       "   (504e295d-461f-47e8-a3cc-e8a25329ee18, 'Reschedule Container'): 35,\n",
       "   (skip_6, None): 216,\n",
       "   (tau_1, None): 594,\n",
       "   (skip_2, None): 1,\n",
       "   (c6e62ff8-e208-4090-89b1-135ce9bcafbd, 'Book Vehicles'): 594,\n",
       "   (skip_3, None): 21,\n",
       "   (init_loop_4, None): 573,\n",
       "   (skip_7, None): 573}),\n",
       " 'Truck': ({source: {'m': 0, 'r': 0, 'c': 6, 'p': 6},\n",
       "   p_5: {'m': 0, 'r': 0, 'c': 12540, 'p': 12540},\n",
       "   sink: {'m': 0, 'r': 0, 'c': 6, 'p': 6},\n",
       "   p_6: {'m': 0, 'r': 0, 'c': 12540, 'p': 12540}},\n",
       "  {(tau_1, None): 6,\n",
       "   (94561cef-2049-401d-8f1e-9dae5dd3f491, 'Drive to Terminal'): 1989,\n",
       "   (skip_6, None): 6,\n",
       "   (23790189-318f-403d-a434-c539748587c8, 'Load Truck'): 10551,\n",
       "   (skip_5, None): 12534}),\n",
       " 'Handling Unit': ({source: {'m': 0, 'r': 0, 'c': 10552, 'p': 10552},\n",
       "   p_3: {'m': 0, 'r': 0, 'c': 10552, 'p': 10552},\n",
       "   sink: {'m': 0, 'r': 0, 'c': 10552, 'p': 10552}},\n",
       "  {(c756ca5c-1734-482d-8645-ed830cea01f6, 'Collect Goods'): 10552,\n",
       "   (e767babc-4e5c-4345-b8b3-0315e484036c, 'Load Truck'): 10551,\n",
       "   (skip_1, None): 1}),\n",
       " 'Forklift': ({source: {'m': 0, 'r': 0, 'c': 3, 'p': 3},\n",
       "   sink: {'m': 0, 'r': 0, 'c': 3, 'p': 3},\n",
       "   p_5: {'m': 0, 'r': 0, 'c': 7721, 'p': 7721},\n",
       "   p_6: {'m': 0, 'r': 0, 'c': 7721, 'p': 7721}},\n",
       "  {(8ea89de0-8ad0-4dcc-a369-75dae3c90696, 'Bring to Loading Bay'): 1960,\n",
       "   (6c8c22ed-c3a3-4c0d-b19b-65e442f2c6ca, 'Load to Vehicle'): 1959,\n",
       "   (86053351-2a7a-45af-a265-d0af38e9c5cb, 'Place in Stock'): 1814,\n",
       "   (330f9ba2-86d2-4a32-a99a-60b0caeeb1db, 'Weigh'): 1988,\n",
       "   (skip_5, None): 7718,\n",
       "   (tau_1, None): 3,\n",
       "   (skip_6, None): 3}),\n",
       " 'Vehicle': ({sink: {'m': 0, 'r': 0, 'c': 127, 'p': 127},\n",
       "   source: {'m': 0, 'r': 0, 'c': 127, 'p': 127},\n",
       "   p_5: {'m': 0, 'r': 0, 'c': 2735, 'p': 2735},\n",
       "   p_6: {'m': 0, 'r': 0, 'c': 2735, 'p': 2735}},\n",
       "  {(tau_1, None): 127,\n",
       "   (53de03b3-ffc0-403c-923b-00b72a97e50a, 'Book Vehicles'): 744,\n",
       "   (6ec2131b-6e6c-4f1f-8cba-982ca51eb49f, 'Load to Vehicle'): 1956,\n",
       "   (3036c8bc-6595-490c-9b84-db2d4d3a465c, 'Reschedule Container'): 35,\n",
       "   (skip_4, None): 2608,\n",
       "   (d652d98c-ba80-40b4-8058-418c28e2a341, 'Depart'): 127})}"
      ]
     },
     "execution_count": 9,
     "metadata": {},
     "output_type": "execute_result"
    }
   ],
   "source": [
    "ocdfg[\"tbr_results\"]"
   ]
  },
  {
   "cell_type": "code",
   "execution_count": 5,
   "id": "360bf2dc-767a-44b6-bae8-7372f9485f0e",
   "metadata": {},
   "outputs": [],
   "source": [
    "end_edge_count = {}\n",
    "for object_type, values in ocdfg['end_activities'][\"events\"].items():\n",
    "     for key,events in values.items():\n",
    "        end_edge_count[(object_type, key)] = len(events)"
   ]
  },
  {
   "cell_type": "code",
   "execution_count": 6,
   "id": "18b71804-a39f-4d75-823e-65094abd517b",
   "metadata": {},
   "outputs": [
    {
     "ename": "NameError",
     "evalue": "name 'start_edge_count' is not defined",
     "output_type": "error",
     "traceback": [
      "\u001b[0;31m---------------------------------------------------------------------------\u001b[0m",
      "\u001b[0;31mNameError\u001b[0m                                 Traceback (most recent call last)",
      "Cell \u001b[0;32mIn[6], line 1\u001b[0m\n\u001b[0;32m----> 1\u001b[0m \u001b[43mstart_edge_count\u001b[49m\n",
      "\u001b[0;31mNameError\u001b[0m: name 'start_edge_count' is not defined"
     ]
    }
   ],
   "source": [
    "start_edge_count"
   ]
  },
  {
   "cell_type": "code",
   "execution_count": null,
   "id": "ffcdfd4a-77fa-4e9d-b35c-fc1e3de039a4",
   "metadata": {},
   "outputs": [],
   "source": [
    "    start_edge_count = {\n",
    "        object_type: {activity: len(events) for activity, events in activities.items()}\n",
    "        for object_type, activities in ocdfg[\"start_activities\"][\"events\"].items()\n",
    "    }\n"
   ]
  },
  {
   "cell_type": "code",
   "execution_count": null,
   "id": "e32ab1ee-10f3-4872-9f0a-70a3762bd41a",
   "metadata": {},
   "outputs": [],
   "source": [
    "start_edge_count"
   ]
  },
  {
   "cell_type": "code",
   "execution_count": null,
   "id": "697fc077-4fd5-4986-8939-67ff348c9737",
   "metadata": {},
   "outputs": [],
   "source": []
  }
 ],
 "metadata": {
  "kernelspec": {
   "display_name": "Python 3 (ipykernel)",
   "language": "python",
   "name": "python3"
  },
  "language_info": {
   "codemirror_mode": {
    "name": "ipython",
    "version": 3
   },
   "file_extension": ".py",
   "mimetype": "text/x-python",
   "name": "python",
   "nbconvert_exporter": "python",
   "pygments_lexer": "ipython3",
   "version": "3.10.17"
  }
 },
 "nbformat": 4,
 "nbformat_minor": 5
}
