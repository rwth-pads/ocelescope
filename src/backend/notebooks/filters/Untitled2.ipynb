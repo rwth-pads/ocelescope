{
 "cells": [
  {
   "cell_type": "code",
   "execution_count": 48,
   "id": "643365be-90a2-460a-bf76-8e26bc8269a4",
   "metadata": {
    "scrolled": true
   },
   "outputs": [
    {
     "name": "stderr",
     "output_type": "stream",
     "text": [
      "/home/grkmr/Projects/ocelescope/src/backend/.venv/lib/python3.10/site-packages/pm4py/objects/ocel/importer/sqlite/variants/ocel20.py:75: UserWarning: There are unsatisfied OCEL 2.0 constraints in the given relational database: ['const_14_primary_key_object_event_map_type_tables', 'const_15_primary_key_object_event_tables', 'const_16_primary_key_event_object_table', 'const_17_primary_key_object_object_table', 'const_18_primary_key_event_type_spec_tables', 'const_19_foreign_key_event', 'const_20_foreign_key_object', 'const_21_foreign_key_event_object', 'const_22_foreign_key_object_object', 'const_23_foreign_key_event_type_specific', 'const_24_foreign_key_object_type_specific']\n",
      "  warnings.warn(\"There are unsatisfied OCEL 2.0 constraints in the given relational database: \"+str(unsatisfied))\n",
      "/home/grkmr/Projects/ocelescope/src/backend/.venv/lib/python3.10/site-packages/pm4py/objects/log/util/dataframe_utils.py:191: SettingWithCopyWarning: \n",
      "A value is trying to be set on a copy of a slice from a DataFrame.\n",
      "Try using .loc[row_indexer,col_indexer] = value instead\n",
      "\n",
      "See the caveats in the documentation: https://pandas.pydata.org/pandas-docs/stable/user_guide/indexing.html#returning-a-view-versus-a-copy\n",
      "  df[col] = pandas_utils.dataframe_column_string_to_datetime(df[col], format=timest_format, utc=True)\n",
      "/home/grkmr/Projects/ocelescope/src/backend/.venv/lib/python3.10/site-packages/pm4py/objects/log/util/dataframe_utils.py:203: SettingWithCopyWarning: \n",
      "A value is trying to be set on a copy of a slice from a DataFrame.\n",
      "Try using .loc[row_indexer,col_indexer] = value instead\n",
      "\n",
      "See the caveats in the documentation: https://pandas.pydata.org/pandas-docs/stable/user_guide/indexing.html#returning-a-view-versus-a-copy\n",
      "  df[col] = strpfromiso.fix_dataframe_column(df[col])\n",
      "/home/grkmr/Projects/ocelescope/src/backend/.venv/lib/python3.10/site-packages/pm4py/objects/ocel/importer/sqlite/variants/ocel20.py:170: SettingWithCopyWarning: \n",
      "A value is trying to be set on a copy of a slice from a DataFrame.\n",
      "Try using .loc[row_indexer,col_indexer] = value instead\n",
      "\n",
      "See the caveats in the documentation: https://pandas.pydata.org/pandas-docs/stable/user_guide/indexing.html#returning-a-view-versus-a-copy\n",
      "  object_changes[internal_index] = object_changes.index\n",
      "/home/grkmr/Projects/ocelescope/src/backend/.venv/lib/python3.10/site-packages/pm4py/objects/ocel/util/ocel_consistency.py:92: SettingWithCopyWarning: \n",
      "A value is trying to be set on a copy of a slice from a DataFrame.\n",
      "Try using .loc[row_indexer,col_indexer] = value instead\n",
      "\n",
      "See the caveats in the documentation: https://pandas.pydata.org/pandas-docs/stable/user_guide/indexing.html#returning-a-view-versus-a-copy\n",
      "  df[col] = df[col].astype(str)\n",
      "/home/grkmr/Projects/ocelescope/src/backend/.venv/lib/python3.10/site-packages/pm4py/objects/ocel/util/ocel_consistency.py:92: SettingWithCopyWarning: \n",
      "A value is trying to be set on a copy of a slice from a DataFrame.\n",
      "Try using .loc[row_indexer,col_indexer] = value instead\n",
      "\n",
      "See the caveats in the documentation: https://pandas.pydata.org/pandas-docs/stable/user_guide/indexing.html#returning-a-view-versus-a-copy\n",
      "  df[col] = df[col].astype(str)\n"
     ]
    }
   ],
   "source": [
    "from typing import List, Literal, Union\n",
    "import pandas as pd\n",
    "import pm4py\n",
    "from pm4py.objects.ocel.obj import OCEL\n",
    "from pydantic.main import BaseModel\n",
    "ocel = pm4py.read_ocel2_sqlite(\"/home/grkmr/Projects/ocelescope/src/backend/data/event_logs/socel_hinge_v1.2_ocean-units.sqlite\")\n",
    "\n"
   ]
  },
  {
   "cell_type": "code",
   "execution_count": 59,
   "id": "099290f1-c939-47a4-bcea-6d4c0520dd80",
   "metadata": {},
   "outputs": [
    {
     "name": "stdout",
     "output_type": "stream",
     "text": [
      "             Event  Count\n",
      "0         CoatPart   5911\n",
      "1   FormSteelSheet   5911\n",
      "2   HeatSteelSheet   5911\n",
      "3  SplitSteelSheet   5911\n",
      "4  CheckFemalePart   2915\n",
      "5   CuttFemalePart   2915\n"
     ]
    }
   ],
   "source": [
    "import math\n",
    "def filter_by_entity_frequency(entity_tabele:pd.DataFrame, entity_type_field:str, threshold:int):\n",
    "    value_counts = entity_tabele.value_counts(entity_type_field)\n",
    "    # Step 1: Convert to DataFrame (optional but clearer)\n",
    "    vc_df = value_counts.reset_index()\n",
    "    vc_df.columns = ['Event', 'Count']\n",
    "    \n",
    "    # Step 2: Sort descending (should already be from value_counts, but make sure)\n",
    "    vc_df = vc_df.sort_values(by='Count', ascending=False)\n",
    "    \n",
    "   \n",
    "    n_total = len(vc_df)\n",
    "    n_top = math.ceil(n_total * (threshold / 100))\n",
    "    \n",
    "    # Step 4: Get the cutoff count (handles ties)\n",
    "    cutoff_count = vc_df.iloc[n_top - 1]['Count']\n",
    "    top_events = vc_df[vc_df['Count'] >= cutoff_count]\n",
    "    print(top_events)\n",
    "    \n",
    "filter_by_entity_frequency(ocel.events, ocel.event_activity, 40)"
   ]
  },
  {
   "cell_type": "code",
   "execution_count": null,
   "id": "4b01f44a-be0b-492d-a165-9a9e2688bd6a",
   "metadata": {},
   "outputs": [],
   "source": []
  }
 ],
 "metadata": {
  "kernelspec": {
   "display_name": "Python 3 (ipykernel)",
   "language": "python",
   "name": "python3"
  },
  "language_info": {
   "codemirror_mode": {
    "name": "ipython",
    "version": 3
   },
   "file_extension": ".py",
   "mimetype": "text/x-python",
   "name": "python",
   "nbconvert_exporter": "python",
   "pygments_lexer": "ipython3",
   "version": "3.10.17"
  }
 },
 "nbformat": 4,
 "nbformat_minor": 5
}
