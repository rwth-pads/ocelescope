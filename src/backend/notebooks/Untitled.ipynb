{
 "cells": [
  {
   "cell_type": "code",
   "execution_count": 2,
   "id": "43a280ba-6883-4a35-bd2a-7b9ef45e80ec",
   "metadata": {
    "scrolled": true
   },
   "outputs": [
    {
     "name": "stderr",
     "output_type": "stream",
     "text": [
      "/home/grkmr/Projects/ocelescope/src/backend/.venv/lib/python3.10/site-packages/pm4py/objects/ocel/importer/sqlite/variants/ocel20.py:75: UserWarning: There are unsatisfied OCEL 2.0 constraints in the given relational database: ['const_23_foreign_key_event_type_specific']\n",
      "  warnings.warn(\"There are unsatisfied OCEL 2.0 constraints in the given relational database: \"+str(unsatisfied))\n",
      "/home/grkmr/Projects/ocelescope/src/backend/.venv/lib/python3.10/site-packages/pm4py/objects/log/util/dataframe_utils.py:191: SettingWithCopyWarning: \n",
      "A value is trying to be set on a copy of a slice from a DataFrame.\n",
      "Try using .loc[row_indexer,col_indexer] = value instead\n",
      "\n",
      "See the caveats in the documentation: https://pandas.pydata.org/pandas-docs/stable/user_guide/indexing.html#returning-a-view-versus-a-copy\n",
      "  df[col] = pandas_utils.dataframe_column_string_to_datetime(df[col], format=timest_format, utc=True)\n",
      "/home/grkmr/Projects/ocelescope/src/backend/.venv/lib/python3.10/site-packages/pm4py/objects/log/util/dataframe_utils.py:203: SettingWithCopyWarning: \n",
      "A value is trying to be set on a copy of a slice from a DataFrame.\n",
      "Try using .loc[row_indexer,col_indexer] = value instead\n",
      "\n",
      "See the caveats in the documentation: https://pandas.pydata.org/pandas-docs/stable/user_guide/indexing.html#returning-a-view-versus-a-copy\n",
      "  df[col] = strpfromiso.fix_dataframe_column(df[col])\n",
      "/home/grkmr/Projects/ocelescope/src/backend/.venv/lib/python3.10/site-packages/pm4py/objects/ocel/importer/sqlite/variants/ocel20.py:170: SettingWithCopyWarning: \n",
      "A value is trying to be set on a copy of a slice from a DataFrame.\n",
      "Try using .loc[row_indexer,col_indexer] = value instead\n",
      "\n",
      "See the caveats in the documentation: https://pandas.pydata.org/pandas-docs/stable/user_guide/indexing.html#returning-a-view-versus-a-copy\n",
      "  object_changes[internal_index] = object_changes.index\n",
      "/home/grkmr/Projects/ocelescope/src/backend/.venv/lib/python3.10/site-packages/pm4py/objects/ocel/util/ocel_consistency.py:92: SettingWithCopyWarning: \n",
      "A value is trying to be set on a copy of a slice from a DataFrame.\n",
      "Try using .loc[row_indexer,col_indexer] = value instead\n",
      "\n",
      "See the caveats in the documentation: https://pandas.pydata.org/pandas-docs/stable/user_guide/indexing.html#returning-a-view-versus-a-copy\n",
      "  df[col] = df[col].astype(str)\n",
      "/home/grkmr/Projects/ocelescope/src/backend/.venv/lib/python3.10/site-packages/pm4py/objects/ocel/util/ocel_consistency.py:92: SettingWithCopyWarning: \n",
      "A value is trying to be set on a copy of a slice from a DataFrame.\n",
      "Try using .loc[row_indexer,col_indexer] = value instead\n",
      "\n",
      "See the caveats in the documentation: https://pandas.pydata.org/pandas-docs/stable/user_guide/indexing.html#returning-a-view-versus-a-copy\n",
      "  df[col] = df[col].astype(str)\n",
      "/home/grkmr/Projects/ocelescope/src/backend/.venv/lib/python3.10/site-packages/pm4py/objects/ocel/util/ocel_consistency.py:92: SettingWithCopyWarning: \n",
      "A value is trying to be set on a copy of a slice from a DataFrame.\n",
      "Try using .loc[row_indexer,col_indexer] = value instead\n",
      "\n",
      "See the caveats in the documentation: https://pandas.pydata.org/pandas-docs/stable/user_guide/indexing.html#returning-a-view-versus-a-copy\n",
      "  df[col] = df[col].astype(str)\n",
      "/home/grkmr/Projects/ocelescope/src/backend/.venv/lib/python3.10/site-packages/pm4py/objects/ocel/util/ocel_consistency.py:92: SettingWithCopyWarning: \n",
      "A value is trying to be set on a copy of a slice from a DataFrame.\n",
      "Try using .loc[row_indexer,col_indexer] = value instead\n",
      "\n",
      "See the caveats in the documentation: https://pandas.pydata.org/pandas-docs/stable/user_guide/indexing.html#returning-a-view-versus-a-copy\n",
      "  df[col] = df[col].astype(str)\n",
      "/home/grkmr/Projects/ocelescope/src/backend/.venv/lib/python3.10/site-packages/pm4py/objects/ocel/util/ocel_consistency.py:92: SettingWithCopyWarning: \n",
      "A value is trying to be set on a copy of a slice from a DataFrame.\n",
      "Try using .loc[row_indexer,col_indexer] = value instead\n",
      "\n",
      "See the caveats in the documentation: https://pandas.pydata.org/pandas-docs/stable/user_guide/indexing.html#returning-a-view-versus-a-copy\n",
      "  df[col] = df[col].astype(str)\n",
      "/home/grkmr/Projects/ocelescope/src/backend/.venv/lib/python3.10/site-packages/pm4py/objects/ocel/util/ocel_consistency.py:92: SettingWithCopyWarning: \n",
      "A value is trying to be set on a copy of a slice from a DataFrame.\n",
      "Try using .loc[row_indexer,col_indexer] = value instead\n",
      "\n",
      "See the caveats in the documentation: https://pandas.pydata.org/pandas-docs/stable/user_guide/indexing.html#returning-a-view-versus-a-copy\n",
      "  df[col] = df[col].astype(str)\n",
      "/home/grkmr/Projects/ocelescope/src/backend/.venv/lib/python3.10/site-packages/pm4py/objects/ocel/importer/sqlite/variants/ocel20.py:75: UserWarning: There are unsatisfied OCEL 2.0 constraints in the given relational database: ['const_14_primary_key_object_event_map_type_tables', 'const_15_primary_key_object_event_tables', 'const_16_primary_key_event_object_table', 'const_17_primary_key_object_object_table', 'const_18_primary_key_event_type_spec_tables', 'const_19_foreign_key_event', 'const_20_foreign_key_object', 'const_21_foreign_key_event_object', 'const_22_foreign_key_object_object', 'const_23_foreign_key_event_type_specific', 'const_24_foreign_key_object_type_specific']\n",
      "  warnings.warn(\"There are unsatisfied OCEL 2.0 constraints in the given relational database: \"+str(unsatisfied))\n",
      "/home/grkmr/Projects/ocelescope/src/backend/.venv/lib/python3.10/site-packages/pm4py/objects/log/util/dataframe_utils.py:191: SettingWithCopyWarning: \n",
      "A value is trying to be set on a copy of a slice from a DataFrame.\n",
      "Try using .loc[row_indexer,col_indexer] = value instead\n",
      "\n",
      "See the caveats in the documentation: https://pandas.pydata.org/pandas-docs/stable/user_guide/indexing.html#returning-a-view-versus-a-copy\n",
      "  df[col] = pandas_utils.dataframe_column_string_to_datetime(df[col], format=timest_format, utc=True)\n",
      "/home/grkmr/Projects/ocelescope/src/backend/.venv/lib/python3.10/site-packages/pm4py/objects/log/util/dataframe_utils.py:203: SettingWithCopyWarning: \n",
      "A value is trying to be set on a copy of a slice from a DataFrame.\n",
      "Try using .loc[row_indexer,col_indexer] = value instead\n",
      "\n",
      "See the caveats in the documentation: https://pandas.pydata.org/pandas-docs/stable/user_guide/indexing.html#returning-a-view-versus-a-copy\n",
      "  df[col] = strpfromiso.fix_dataframe_column(df[col])\n",
      "/home/grkmr/Projects/ocelescope/src/backend/.venv/lib/python3.10/site-packages/pm4py/objects/ocel/importer/sqlite/variants/ocel20.py:170: SettingWithCopyWarning: \n",
      "A value is trying to be set on a copy of a slice from a DataFrame.\n",
      "Try using .loc[row_indexer,col_indexer] = value instead\n",
      "\n",
      "See the caveats in the documentation: https://pandas.pydata.org/pandas-docs/stable/user_guide/indexing.html#returning-a-view-versus-a-copy\n",
      "  object_changes[internal_index] = object_changes.index\n",
      "/home/grkmr/Projects/ocelescope/src/backend/.venv/lib/python3.10/site-packages/pm4py/objects/ocel/util/ocel_consistency.py:92: SettingWithCopyWarning: \n",
      "A value is trying to be set on a copy of a slice from a DataFrame.\n",
      "Try using .loc[row_indexer,col_indexer] = value instead\n",
      "\n",
      "See the caveats in the documentation: https://pandas.pydata.org/pandas-docs/stable/user_guide/indexing.html#returning-a-view-versus-a-copy\n",
      "  df[col] = df[col].astype(str)\n",
      "/home/grkmr/Projects/ocelescope/src/backend/.venv/lib/python3.10/site-packages/pm4py/objects/ocel/util/ocel_consistency.py:92: SettingWithCopyWarning: \n",
      "A value is trying to be set on a copy of a slice from a DataFrame.\n",
      "Try using .loc[row_indexer,col_indexer] = value instead\n",
      "\n",
      "See the caveats in the documentation: https://pandas.pydata.org/pandas-docs/stable/user_guide/indexing.html#returning-a-view-versus-a-copy\n",
      "  df[col] = df[col].astype(str)\n"
     ]
    }
   ],
   "source": [
    "import pm4py\n",
    "import pandas as pd\n",
    "import networkx as nx\n",
    "\n",
    "ocel = pm4py.read_ocel2_sqlite(\"../data/event_logs/ContainerLogistics-v2.sqlite\")\n",
    "big_ocel = pm4py.read_ocel2_sqlite(\"/home/grkmr/Downloads/order-management(3).sqlite\")"
   ]
  },
  {
   "cell_type": "code",
   "execution_count": 4,
   "id": "d6be09a3-bcd1-480d-9ba3-28cde8d97f5e",
   "metadata": {},
   "outputs": [],
   "source": [
    "ocdf = pm4py.discover_ocdfg(ocel)"
   ]
  },
  {
   "cell_type": "code",
   "execution_count": 5,
   "id": "ae16eaea-033c-4fdd-85dc-70c9d248d7c6",
   "metadata": {},
   "outputs": [
    {
     "data": {
      "text/plain": [
       "dict_keys(['activities', 'object_types', 'edges', 'activities_indep', 'activities_ot', 'start_activities', 'end_activities', 'edges_performance'])"
      ]
     },
     "execution_count": 5,
     "metadata": {},
     "output_type": "execute_result"
    }
   ],
   "source": [
    "ocdf.keys()"
   ]
  },
  {
   "cell_type": "code",
   "execution_count": 38,
   "id": "20402d6e-9232-450d-8df0-68605e75b13e",
   "metadata": {},
   "outputs": [
    {
     "name": "stdout",
     "output_type": "stream",
     "text": [
      "Customer Order [('Register Customer Order', 'Create Transport Document')] \n",
      "\n",
      "Transport Document [('Create Transport Document', 'Book Vehicles'), ('Book Vehicles', 'Order Empty Containers'), ('Order Empty Containers', 'Depart'), ('Depart', 'Depart'), ('Depart', 'Reschedule Container'), ('Reschedule Container', 'Depart'), ('Order Empty Containers', 'Reschedule Container'), ('Reschedule Container', 'Reschedule Container')] \n",
      "\n",
      "Container [('Order Empty Containers', 'Pick Up Empty Container'), ('Pick Up Empty Container', 'Load Truck'), ('Load Truck', 'Load Truck'), ('Load Truck', 'Drive to Terminal'), ('Drive to Terminal', 'Weigh'), ('Weigh', 'Place in Stock'), ('Place in Stock', 'Bring to Loading Bay'), ('Bring to Loading Bay', 'Load to Vehicle'), ('Weigh', 'Bring to Loading Bay'), ('Load to Vehicle', 'Depart'), ('Bring to Loading Bay', 'Reschedule Container'), ('Reschedule Container', 'Load to Vehicle')] \n",
      "\n",
      "Vehicle [('Book Vehicles', 'Book Vehicles'), ('Book Vehicles', 'Load to Vehicle'), ('Load to Vehicle', 'Load to Vehicle'), ('Load to Vehicle', 'Depart'), ('Book Vehicles', 'Reschedule Container'), ('Reschedule Container', 'Reschedule Container'), ('Reschedule Container', 'Load to Vehicle'), ('Load to Vehicle', 'Book Vehicles'), ('Reschedule Container', 'Book Vehicles')] \n",
      "\n"
     ]
    }
   ],
   "source": [
    "for object_type,edge in ocdf[\"edges\"][\"event_couples\"].items():\n",
    "    print(object_type, list(edge.keys()),\"\\n\")"
   ]
  },
  {
   "cell_type": "code",
   "execution_count": 25,
   "id": "c6a64cb1-caf3-42f0-bd2d-3526da2dc709",
   "metadata": {
    "scrolled": true
   },
   "outputs": [
    {
     "name": "stdout",
     "output_type": "stream",
     "text": [
      "Container dict_keys(['Order Empty Containers']) /n\n",
      "Customer Order dict_keys(['Register Customer Order']) /n\n",
      "Transport Document dict_keys(['Create Transport Document']) /n\n",
      "Vehicle dict_keys(['Book Vehicles']) /n\n"
     ]
    }
   ],
   "source": [
    "for object_type, start_activity in ocdf[\"start_activities\"][\"events\"].items():\n",
    "    print(object_type, start_activity.keys(), \"/n\")"
   ]
  },
  {
   "cell_type": "code",
   "execution_count": 26,
   "id": "bc0d97b6-7be8-43e4-9a81-4196b2275312",
   "metadata": {},
   "outputs": [
    {
     "name": "stdout",
     "output_type": "stream",
     "text": [
      "Container dict_keys(['Bring to Loading Bay', 'Depart', 'Load Truck', 'Load to Vehicle', 'Order Empty Containers', 'Pick Up Empty Container', 'Place in Stock', 'Reschedule Container']) /n\n",
      "Customer Order dict_keys(['Create Transport Document', 'Register Customer Order']) /n\n",
      "Transport Document dict_keys(['Book Vehicles', 'Depart', 'Order Empty Containers', 'Reschedule Container']) /n\n",
      "Vehicle dict_keys(['Depart']) /n\n"
     ]
    }
   ],
   "source": [
    "for object_type, start_activity in ocdf[\"end_activities\"][\"events\"].items():\n",
    "    print(object_type, start_activity.keys(), \"/n\")"
   ]
  },
  {
   "cell_type": "code",
   "execution_count": 44,
   "id": "7cf32e88-bb79-42a0-beb5-96e87a148493",
   "metadata": {},
   "outputs": [],
   "source": [
    "from pydantic import BaseModel\n",
    "\n",
    "class DFG_EDGE(BaseModel):\n",
    "    source: str\n",
    "    target: str\n",
    "    object_type:str\n",
    "\n",
    "\n",
    "class OCDFG(BaseModel):\n",
    "    object_types : list[str]\n",
    "    activities: list[str]\n",
    "    edges: list[DFG_EDGE]\n",
    "    start_activities: dict[str,list[str]]\n",
    "    end_activities: dict[str,list[str]]"
   ]
  },
  {
   "cell_type": "code",
   "execution_count": 54,
   "id": "09afe63c-ed86-4183-b48d-377e64c891c5",
   "metadata": {},
   "outputs": [
    {
     "data": {
      "text/plain": [
       "OCDFG(object_types=['Customer Order', 'Vehicle', 'Container', 'Transport Document'], activities=['Drive to Terminal', 'Book Vehicles', 'Order Empty Containers', 'Collect Goods', 'Reschedule Container', 'Depart', 'Create Transport Document', 'Load to Vehicle', 'Load Truck', 'Weigh', 'Pick Up Empty Container', 'Bring to Loading Bay', 'Place in Stock', 'Register Customer Order'], edges=[DFG_EDGE(source='Register Customer Order', target='Create Transport Document', object_type='Customer Order'), DFG_EDGE(source='Create Transport Document', target='Book Vehicles', object_type='Transport Document'), DFG_EDGE(source='Book Vehicles', target='Order Empty Containers', object_type='Transport Document'), DFG_EDGE(source='Order Empty Containers', target='Depart', object_type='Transport Document'), DFG_EDGE(source='Depart', target='Depart', object_type='Transport Document'), DFG_EDGE(source='Depart', target='Reschedule Container', object_type='Transport Document'), DFG_EDGE(source='Reschedule Container', target='Depart', object_type='Transport Document'), DFG_EDGE(source='Order Empty Containers', target='Reschedule Container', object_type='Transport Document'), DFG_EDGE(source='Reschedule Container', target='Reschedule Container', object_type='Transport Document'), DFG_EDGE(source='Order Empty Containers', target='Pick Up Empty Container', object_type='Container'), DFG_EDGE(source='Pick Up Empty Container', target='Load Truck', object_type='Container'), DFG_EDGE(source='Load Truck', target='Load Truck', object_type='Container'), DFG_EDGE(source='Load Truck', target='Drive to Terminal', object_type='Container'), DFG_EDGE(source='Drive to Terminal', target='Weigh', object_type='Container'), DFG_EDGE(source='Weigh', target='Place in Stock', object_type='Container'), DFG_EDGE(source='Place in Stock', target='Bring to Loading Bay', object_type='Container'), DFG_EDGE(source='Bring to Loading Bay', target='Load to Vehicle', object_type='Container'), DFG_EDGE(source='Weigh', target='Bring to Loading Bay', object_type='Container'), DFG_EDGE(source='Load to Vehicle', target='Depart', object_type='Container'), DFG_EDGE(source='Bring to Loading Bay', target='Reschedule Container', object_type='Container'), DFG_EDGE(source='Reschedule Container', target='Load to Vehicle', object_type='Container'), DFG_EDGE(source='Book Vehicles', target='Book Vehicles', object_type='Vehicle'), DFG_EDGE(source='Book Vehicles', target='Load to Vehicle', object_type='Vehicle'), DFG_EDGE(source='Load to Vehicle', target='Load to Vehicle', object_type='Vehicle'), DFG_EDGE(source='Load to Vehicle', target='Depart', object_type='Vehicle'), DFG_EDGE(source='Book Vehicles', target='Reschedule Container', object_type='Vehicle'), DFG_EDGE(source='Reschedule Container', target='Reschedule Container', object_type='Vehicle'), DFG_EDGE(source='Reschedule Container', target='Load to Vehicle', object_type='Vehicle'), DFG_EDGE(source='Load to Vehicle', target='Book Vehicles', object_type='Vehicle'), DFG_EDGE(source='Reschedule Container', target='Book Vehicles', object_type='Vehicle')], start_activities={'Container': ['Order Empty Containers'], 'Customer Order': ['Register Customer Order'], 'Transport Document': ['Create Transport Document'], 'Vehicle': ['Book Vehicles']}, end_activities={'Container': ['Order Empty Containers'], 'Customer Order': ['Register Customer Order'], 'Transport Document': ['Create Transport Document'], 'Vehicle': ['Book Vehicles']})"
      ]
     },
     "execution_count": 54,
     "metadata": {},
     "output_type": "execute_result"
    }
   ],
   "source": [
    "def compute_ocdfg(ocel:pm4py.OCEL) -> OCDFG:\n",
    "    ocdfg = pm4py.discover_ocdfg(ocel)\n",
    "\n",
    "    edges = []\n",
    "    for object_type,raw_edges in ocdf[\"edges\"][\"event_couples\"].items():\n",
    "        edges = edges + ([ DFG_EDGE(object_type=object_type,source=source, target=target) for source, target in raw_edges])\n",
    "\n",
    "    start_activities ={object_type :list(raw_start_activities) for object_type, raw_start_activities in ocdf[\"start_activities\"][\"events\"].items()}\n",
    "    end_activities ={object_type :list(raw_start_activities) for object_type, raw_start_activities in ocdf[\"start_activities\"][\"events\"].items()}\n",
    "    \n",
    "    return OCDFG(activities=ocdfg[\"activities\"], edges=edges, object_types=ocdfg[\"object_types\"],end_activities=end_activities, start_activities=start_activities )\n",
    "\n",
    "compute_ocdfg(ocel)"
   ]
  },
  {
   "cell_type": "code",
   "execution_count": null,
   "id": "ad734a32-4f00-4ff1-adc8-0fb307f9c114",
   "metadata": {},
   "outputs": [],
   "source": []
  }
 ],
 "metadata": {
  "kernelspec": {
   "display_name": "Python 3 (ipykernel)",
   "language": "python",
   "name": "python3"
  },
  "language_info": {
   "codemirror_mode": {
    "name": "ipython",
    "version": 3
   },
   "file_extension": ".py",
   "mimetype": "text/x-python",
   "name": "python",
   "nbconvert_exporter": "python",
   "pygments_lexer": "ipython3",
   "version": "3.10.17"
  }
 },
 "nbformat": 4,
 "nbformat_minor": 5
}
